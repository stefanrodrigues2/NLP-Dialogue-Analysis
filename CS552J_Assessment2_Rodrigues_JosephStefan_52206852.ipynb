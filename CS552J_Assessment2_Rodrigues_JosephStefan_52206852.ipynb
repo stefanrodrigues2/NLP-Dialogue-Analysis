{
 "cells": [
  {
   "cell_type": "code",
   "execution_count": 284,
   "metadata": {},
   "outputs": [],
   "source": [
    "#Importing Libraries\n",
    "import sklearn\n",
    "import numpy as np\n",
    "import pandas as pd\n",
    "from sklearn.feature_extraction.text import CountVectorizer, TfidfVectorizer\n",
    "from sklearn.model_selection import train_test_split\n",
    "from sklearn import svm\n",
    "from sklearn import preprocessing\n",
    "from sklearn.metrics import accuracy_score, precision_score, recall_score, confusion_matrix\n",
    "from sklearn.linear_model import LinearRegression as lm\n",
    "from sklearn.preprocessing import LabelEncoder, OneHotEncoder\n",
    "import matplotlib.pyplot as plt\n",
    "import nltk\n",
    "from collections import Counter\n",
    "from nltk.stem import WordNetLemmatizer\n",
    "from nltk import word_tokenize \n",
    "import seaborn as sns\n",
    "import matplotlib.pyplot as plt  "
   ]
  },
  {
   "cell_type": "code",
   "execution_count": 285,
   "metadata": {},
   "outputs": [
    {
     "data": {
      "text/html": [
       "<div>\n",
       "<style scoped>\n",
       "    .dataframe tbody tr th:only-of-type {\n",
       "        vertical-align: middle;\n",
       "    }\n",
       "\n",
       "    .dataframe tbody tr th {\n",
       "        vertical-align: top;\n",
       "    }\n",
       "\n",
       "    .dataframe thead th {\n",
       "        text-align: right;\n",
       "    }\n",
       "</style>\n",
       "<table border=\"1\" class=\"dataframe\">\n",
       "  <thead>\n",
       "    <tr style=\"text-align: right;\">\n",
       "      <th></th>\n",
       "      <th>transcript_id</th>\n",
       "      <th>mi_quality</th>\n",
       "      <th>video_title</th>\n",
       "      <th>video_url</th>\n",
       "      <th>topic</th>\n",
       "      <th>utterance_id</th>\n",
       "      <th>interlocutor</th>\n",
       "      <th>timestamp</th>\n",
       "      <th>utterance_text</th>\n",
       "      <th>main_therapist_behaviour</th>\n",
       "      <th>client_talk_type</th>\n",
       "    </tr>\n",
       "  </thead>\n",
       "  <tbody>\n",
       "    <tr>\n",
       "      <th>0</th>\n",
       "      <td>0</td>\n",
       "      <td>high</td>\n",
       "      <td>NEW VIDEO: Brief intervention: \"Barbara\"</td>\n",
       "      <td>https://www.youtube.com/watch?v=PaSKcfTmFEk</td>\n",
       "      <td>reducing alcohol consumption</td>\n",
       "      <td>0</td>\n",
       "      <td>therapist</td>\n",
       "      <td>00:00:13</td>\n",
       "      <td>Thanks for filling it out. We give this form t...</td>\n",
       "      <td>question</td>\n",
       "      <td>NaN</td>\n",
       "    </tr>\n",
       "    <tr>\n",
       "      <th>1</th>\n",
       "      <td>0</td>\n",
       "      <td>high</td>\n",
       "      <td>NEW VIDEO: Brief intervention: \"Barbara\"</td>\n",
       "      <td>https://www.youtube.com/watch?v=PaSKcfTmFEk</td>\n",
       "      <td>reducing alcohol consumption</td>\n",
       "      <td>1</td>\n",
       "      <td>client</td>\n",
       "      <td>00:00:24</td>\n",
       "      <td>Sure.</td>\n",
       "      <td>NaN</td>\n",
       "      <td>neutral</td>\n",
       "    </tr>\n",
       "    <tr>\n",
       "      <th>2</th>\n",
       "      <td>0</td>\n",
       "      <td>high</td>\n",
       "      <td>NEW VIDEO: Brief intervention: \"Barbara\"</td>\n",
       "      <td>https://www.youtube.com/watch?v=PaSKcfTmFEk</td>\n",
       "      <td>reducing alcohol consumption</td>\n",
       "      <td>2</td>\n",
       "      <td>therapist</td>\n",
       "      <td>00:00:25</td>\n",
       "      <td>So, let's see. It looks that you put-- You dri...</td>\n",
       "      <td>therapist_input</td>\n",
       "      <td>NaN</td>\n",
       "    </tr>\n",
       "    <tr>\n",
       "      <th>3</th>\n",
       "      <td>0</td>\n",
       "      <td>high</td>\n",
       "      <td>NEW VIDEO: Brief intervention: \"Barbara\"</td>\n",
       "      <td>https://www.youtube.com/watch?v=PaSKcfTmFEk</td>\n",
       "      <td>reducing alcohol consumption</td>\n",
       "      <td>3</td>\n",
       "      <td>client</td>\n",
       "      <td>00:00:34</td>\n",
       "      <td>Mm-hmm.</td>\n",
       "      <td>NaN</td>\n",
       "      <td>neutral</td>\n",
       "    </tr>\n",
       "    <tr>\n",
       "      <th>4</th>\n",
       "      <td>0</td>\n",
       "      <td>high</td>\n",
       "      <td>NEW VIDEO: Brief intervention: \"Barbara\"</td>\n",
       "      <td>https://www.youtube.com/watch?v=PaSKcfTmFEk</td>\n",
       "      <td>reducing alcohol consumption</td>\n",
       "      <td>4</td>\n",
       "      <td>therapist</td>\n",
       "      <td>00:00:34</td>\n",
       "      <td>-and you usually have three to four drinks whe...</td>\n",
       "      <td>therapist_input</td>\n",
       "      <td>NaN</td>\n",
       "    </tr>\n",
       "  </tbody>\n",
       "</table>\n",
       "</div>"
      ],
      "text/plain": [
       "   transcript_id mi_quality                               video_title  \\\n",
       "0              0       high  NEW VIDEO: Brief intervention: \"Barbara\"   \n",
       "1              0       high  NEW VIDEO: Brief intervention: \"Barbara\"   \n",
       "2              0       high  NEW VIDEO: Brief intervention: \"Barbara\"   \n",
       "3              0       high  NEW VIDEO: Brief intervention: \"Barbara\"   \n",
       "4              0       high  NEW VIDEO: Brief intervention: \"Barbara\"   \n",
       "\n",
       "                                     video_url                         topic  \\\n",
       "0  https://www.youtube.com/watch?v=PaSKcfTmFEk  reducing alcohol consumption   \n",
       "1  https://www.youtube.com/watch?v=PaSKcfTmFEk  reducing alcohol consumption   \n",
       "2  https://www.youtube.com/watch?v=PaSKcfTmFEk  reducing alcohol consumption   \n",
       "3  https://www.youtube.com/watch?v=PaSKcfTmFEk  reducing alcohol consumption   \n",
       "4  https://www.youtube.com/watch?v=PaSKcfTmFEk  reducing alcohol consumption   \n",
       "\n",
       "   utterance_id interlocutor timestamp  \\\n",
       "0             0    therapist  00:00:13   \n",
       "1             1       client  00:00:24   \n",
       "2             2    therapist  00:00:25   \n",
       "3             3       client  00:00:34   \n",
       "4             4    therapist  00:00:34   \n",
       "\n",
       "                                      utterance_text main_therapist_behaviour  \\\n",
       "0  Thanks for filling it out. We give this form t...                 question   \n",
       "1                                              Sure.                      NaN   \n",
       "2  So, let's see. It looks that you put-- You dri...          therapist_input   \n",
       "3                                            Mm-hmm.                      NaN   \n",
       "4  -and you usually have three to four drinks whe...          therapist_input   \n",
       "\n",
       "  client_talk_type  \n",
       "0              NaN  \n",
       "1          neutral  \n",
       "2              NaN  \n",
       "3          neutral  \n",
       "4              NaN  "
      ]
     },
     "execution_count": 285,
     "metadata": {},
     "output_type": "execute_result"
    }
   ],
   "source": [
    "#Reading CSV\n",
    "df = pd.read_csv('dataset.csv')\n",
    "df.head()"
   ]
  },
  {
   "cell_type": "code",
   "execution_count": 286,
   "metadata": {},
   "outputs": [
    {
     "data": {
      "text/plain": [
       "transcript_id                  0\n",
       "mi_quality                     0\n",
       "video_title                    0\n",
       "video_url                      0\n",
       "topic                          0\n",
       "utterance_id                   0\n",
       "interlocutor                   0\n",
       "timestamp                      0\n",
       "utterance_text                 0\n",
       "main_therapist_behaviour    4817\n",
       "client_talk_type            4882\n",
       "dtype: int64"
      ]
     },
     "execution_count": 286,
     "metadata": {},
     "output_type": "execute_result"
    }
   ],
   "source": [
    "#To check if null data is present in each column\n",
    "df.isnull().sum()"
   ]
  },
  {
   "cell_type": "code",
   "execution_count": 287,
   "metadata": {},
   "outputs": [
    {
     "data": {
      "text/html": [
       "<div>\n",
       "<style scoped>\n",
       "    .dataframe tbody tr th:only-of-type {\n",
       "        vertical-align: middle;\n",
       "    }\n",
       "\n",
       "    .dataframe tbody tr th {\n",
       "        vertical-align: top;\n",
       "    }\n",
       "\n",
       "    .dataframe thead th {\n",
       "        text-align: right;\n",
       "    }\n",
       "</style>\n",
       "<table border=\"1\" class=\"dataframe\">\n",
       "  <thead>\n",
       "    <tr style=\"text-align: right;\">\n",
       "      <th></th>\n",
       "      <th>transcript_id</th>\n",
       "      <th>utterance_id</th>\n",
       "    </tr>\n",
       "  </thead>\n",
       "  <tbody>\n",
       "    <tr>\n",
       "      <th>count</th>\n",
       "      <td>9699.000000</td>\n",
       "      <td>9699.000000</td>\n",
       "    </tr>\n",
       "    <tr>\n",
       "      <th>mean</th>\n",
       "      <td>71.834828</td>\n",
       "      <td>84.341891</td>\n",
       "    </tr>\n",
       "    <tr>\n",
       "      <th>std</th>\n",
       "      <td>38.474008</td>\n",
       "      <td>101.072809</td>\n",
       "    </tr>\n",
       "    <tr>\n",
       "      <th>min</th>\n",
       "      <td>0.000000</td>\n",
       "      <td>0.000000</td>\n",
       "    </tr>\n",
       "    <tr>\n",
       "      <th>25%</th>\n",
       "      <td>38.000000</td>\n",
       "      <td>19.000000</td>\n",
       "    </tr>\n",
       "    <tr>\n",
       "      <th>50%</th>\n",
       "      <td>71.000000</td>\n",
       "      <td>46.000000</td>\n",
       "    </tr>\n",
       "    <tr>\n",
       "      <th>75%</th>\n",
       "      <td>104.000000</td>\n",
       "      <td>110.000000</td>\n",
       "    </tr>\n",
       "    <tr>\n",
       "      <th>max</th>\n",
       "      <td>133.000000</td>\n",
       "      <td>597.000000</td>\n",
       "    </tr>\n",
       "  </tbody>\n",
       "</table>\n",
       "</div>"
      ],
      "text/plain": [
       "       transcript_id  utterance_id\n",
       "count    9699.000000   9699.000000\n",
       "mean       71.834828     84.341891\n",
       "std        38.474008    101.072809\n",
       "min         0.000000      0.000000\n",
       "25%        38.000000     19.000000\n",
       "50%        71.000000     46.000000\n",
       "75%       104.000000    110.000000\n",
       "max       133.000000    597.000000"
      ]
     },
     "execution_count": 287,
     "metadata": {},
     "output_type": "execute_result"
    }
   ],
   "source": [
    "#Summary Statistics\n",
    "df.describe()"
   ]
  },
  {
   "cell_type": "markdown",
   "metadata": {},
   "source": [
    "SUMMARY STATISTICS OF DATASET"
   ]
  },
  {
   "cell_type": "code",
   "execution_count": 288,
   "metadata": {},
   "outputs": [
    {
     "data": {
      "text/html": [
       "<div>\n",
       "<style scoped>\n",
       "    .dataframe tbody tr th:only-of-type {\n",
       "        vertical-align: middle;\n",
       "    }\n",
       "\n",
       "    .dataframe tbody tr th {\n",
       "        vertical-align: top;\n",
       "    }\n",
       "\n",
       "    .dataframe thead th {\n",
       "        text-align: right;\n",
       "    }\n",
       "</style>\n",
       "<table border=\"1\" class=\"dataframe\">\n",
       "  <thead>\n",
       "    <tr style=\"text-align: right;\">\n",
       "      <th></th>\n",
       "      <th>topic</th>\n",
       "      <th>interlocutor</th>\n",
       "      <th>utterance_text</th>\n",
       "      <th>main_therapist_behaviour</th>\n",
       "      <th>client_talk_type</th>\n",
       "    </tr>\n",
       "  </thead>\n",
       "  <tbody>\n",
       "    <tr>\n",
       "      <th>0</th>\n",
       "      <td>25</td>\n",
       "      <td>1</td>\n",
       "      <td>4756</td>\n",
       "      <td>1</td>\n",
       "      <td>3</td>\n",
       "    </tr>\n",
       "    <tr>\n",
       "      <th>1</th>\n",
       "      <td>25</td>\n",
       "      <td>0</td>\n",
       "      <td>4692</td>\n",
       "      <td>4</td>\n",
       "      <td>1</td>\n",
       "    </tr>\n",
       "    <tr>\n",
       "      <th>2</th>\n",
       "      <td>25</td>\n",
       "      <td>1</td>\n",
       "      <td>4522</td>\n",
       "      <td>3</td>\n",
       "      <td>3</td>\n",
       "    </tr>\n",
       "    <tr>\n",
       "      <th>3</th>\n",
       "      <td>25</td>\n",
       "      <td>0</td>\n",
       "      <td>2804</td>\n",
       "      <td>4</td>\n",
       "      <td>1</td>\n",
       "    </tr>\n",
       "    <tr>\n",
       "      <th>4</th>\n",
       "      <td>25</td>\n",
       "      <td>1</td>\n",
       "      <td>238</td>\n",
       "      <td>3</td>\n",
       "      <td>3</td>\n",
       "    </tr>\n",
       "  </tbody>\n",
       "</table>\n",
       "</div>"
      ],
      "text/plain": [
       "  topic interlocutor utterance_text main_therapist_behaviour client_talk_type\n",
       "0    25            1           4756                        1                3\n",
       "1    25            0           4692                        4                1\n",
       "2    25            1           4522                        3                3\n",
       "3    25            0           2804                        4                1\n",
       "4    25            1            238                        3                3"
      ]
     },
     "execution_count": 288,
     "metadata": {},
     "output_type": "execute_result"
    }
   ],
   "source": [
    "#Reading CSV with specific columns\n",
    "df_st = pd.read_csv('dataset.csv',usecols=['topic','interlocutor','utterance_text','main_therapist_behaviour','client_talk_type'])\n",
    "\n",
    "#Get all rows and all columns \n",
    "X = df_st.iloc[:,:].values\n",
    "Z = pd.DataFrame(X)\n",
    "#Transforming to vector\n",
    "labelencoder_X = LabelEncoder()\n",
    "X[:,0] = labelencoder_X.fit_transform(X[:,0])\n",
    "X[:,1] = labelencoder_X.fit_transform(X[:,1])\n",
    "X[:,2] = labelencoder_X.fit_transform(X[:,2])\n",
    "X[:,3] = labelencoder_X.fit_transform(X[:,3])\n",
    "X[:,4] = labelencoder_X.fit_transform(X[:,4])\n",
    "df_st.head()\n",
    "\n"
   ]
  },
  {
   "cell_type": "code",
   "execution_count": 289,
   "metadata": {},
   "outputs": [],
   "source": [
    "#Calculation\n",
    "mean_values = df_st.mean().tolist()\n",
    "min_values = df_st.min().tolist()\n",
    "max_values = df_st.max().tolist()\n",
    "std_values = df_st.std().tolist()\n",
    "median_values = df_st.median().tolist()\n",
    "range_values = (df_st.max() - df_st.min()).tolist()"
   ]
  },
  {
   "cell_type": "code",
   "execution_count": 290,
   "metadata": {},
   "outputs": [],
   "source": [
    "#Percentile Calculation\n",
    "percentile_25 = []\n",
    "percentile_25.append(np.percentile(df_st['topic'], 25))\n",
    "percentile_25.append(np.percentile(df_st['interlocutor'], 25))\n",
    "percentile_25.append(np.percentile(df_st['utterance_text'], 25))\n",
    "percentile_25.append(np.percentile(df_st['main_therapist_behaviour'], 25))\n",
    "percentile_25.append(np.percentile(df_st['client_talk_type'], 25))\n",
    "\n",
    "percentile_50 = []\n",
    "percentile_50.append(np.percentile(df_st['topic'], 50))\n",
    "percentile_50.append(np.percentile(df_st['interlocutor'], 50))\n",
    "percentile_50.append(np.percentile(df_st['utterance_text'], 50))\n",
    "percentile_50.append(np.percentile(df_st['main_therapist_behaviour'], 50))\n",
    "percentile_50.append(np.percentile(df_st['client_talk_type'], 50))\n",
    "\n",
    "percentile_75 = []\n",
    "percentile_75.append(np.percentile(df_st['topic'], 75))\n",
    "percentile_75.append(np.percentile(df_st['interlocutor'], 75))\n",
    "percentile_75.append(np.percentile(df_st['utterance_text'], 75))\n",
    "percentile_75.append(np.percentile(df_st['main_therapist_behaviour'], 75))\n",
    "percentile_75.append(np.percentile(df_st['client_talk_type'], 75))"
   ]
  },
  {
   "cell_type": "code",
   "execution_count": 291,
   "metadata": {},
   "outputs": [
    {
     "name": "stdout",
     "output_type": "stream",
     "text": [
      "                                 mean  range  standard_deviation  min   max  \\\n",
      "topic                       24.670585     43           11.841910    0    43   \n",
      "interlocutor                 0.503351      1            0.500015    0     1   \n",
      "utterance_text            3878.171152   7363         2086.825317    0  7363   \n",
      "main_therapist_behaviour     2.586658      4            1.582081    0     4   \n",
      "client_talk_type             1.941437      3            1.141953    0     3   \n",
      "\n",
      "                          median  25 percentile  50 percentile  75 percentile  \n",
      "topic                       25.0           16.0           25.0           33.0  \n",
      "interlocutor                 1.0            0.0            1.0            1.0  \n",
      "utterance_text            3686.0         2291.5         3686.0         5829.5  \n",
      "main_therapist_behaviour     3.0            1.0            3.0            4.0  \n",
      "client_talk_type             3.0            1.0            3.0            3.0  \n"
     ]
    }
   ],
   "source": [
    "#Creating a new table for summary statistics\n",
    "data = {'mean' : mean_values,\n",
    "        'range' : range_values,\n",
    "        'standard_deviation' : std_values,\n",
    "        'min' : min_values,\n",
    "        'max' : max_values,\n",
    "        'median' : median_values,\n",
    "        '25 percentile' : percentile_25,\n",
    "        '50 percentile' : percentile_50,\n",
    "        '75 percentile' : percentile_75\n",
    "        }\n",
    "df_new = pd.DataFrame(data, index=['topic','interlocutor','utterance_text','main_therapist_behaviour','client_talk_type'])\n",
    "print(df_new)"
   ]
  },
  {
   "cell_type": "code",
   "execution_count": 292,
   "metadata": {},
   "outputs": [
    {
     "data": {
      "text/plain": [
       "count    9699.000000\n",
       "mean       15.819775\n",
       "std        20.342076\n",
       "min         1.000000\n",
       "25%         2.000000\n",
       "50%         9.000000\n",
       "75%        21.000000\n",
       "max       246.000000\n",
       "Name: number_of_words, dtype: float64"
      ]
     },
     "execution_count": 292,
     "metadata": {},
     "output_type": "execute_result"
    }
   ],
   "source": [
    "#Summary statistics for number of words\n",
    "df['number_of_words'] = df['utterance_text'].str.split(' ').apply(len)\n",
    "df['number_of_words'].describe()"
   ]
  },
  {
   "cell_type": "code",
   "execution_count": 293,
   "metadata": {},
   "outputs": [
    {
     "data": {
      "text/html": [
       "<div>\n",
       "<style scoped>\n",
       "    .dataframe tbody tr th:only-of-type {\n",
       "        vertical-align: middle;\n",
       "    }\n",
       "\n",
       "    .dataframe tbody tr th {\n",
       "        vertical-align: top;\n",
       "    }\n",
       "\n",
       "    .dataframe thead th {\n",
       "        text-align: right;\n",
       "    }\n",
       "</style>\n",
       "<table border=\"1\" class=\"dataframe\">\n",
       "  <thead>\n",
       "    <tr style=\"text-align: right;\">\n",
       "      <th></th>\n",
       "      <th>topic</th>\n",
       "      <th>interlocutor</th>\n",
       "      <th>utterance_text</th>\n",
       "      <th>main_therapist_behaviour</th>\n",
       "      <th>client_talk_type</th>\n",
       "    </tr>\n",
       "  </thead>\n",
       "  <tbody>\n",
       "    <tr>\n",
       "      <th>count</th>\n",
       "      <td>9699</td>\n",
       "      <td>9699</td>\n",
       "      <td>9699</td>\n",
       "      <td>9699</td>\n",
       "      <td>9699</td>\n",
       "    </tr>\n",
       "    <tr>\n",
       "      <th>unique</th>\n",
       "      <td>44</td>\n",
       "      <td>2</td>\n",
       "      <td>7364</td>\n",
       "      <td>5</td>\n",
       "      <td>4</td>\n",
       "    </tr>\n",
       "    <tr>\n",
       "      <th>top</th>\n",
       "      <td>25</td>\n",
       "      <td>1</td>\n",
       "      <td>6598</td>\n",
       "      <td>4</td>\n",
       "      <td>3</td>\n",
       "    </tr>\n",
       "    <tr>\n",
       "      <th>freq</th>\n",
       "      <td>1732</td>\n",
       "      <td>4882</td>\n",
       "      <td>694</td>\n",
       "      <td>4817</td>\n",
       "      <td>4882</td>\n",
       "    </tr>\n",
       "  </tbody>\n",
       "</table>\n",
       "</div>"
      ],
      "text/plain": [
       "        topic  interlocutor  utterance_text  main_therapist_behaviour  \\\n",
       "count    9699          9699            9699                      9699   \n",
       "unique     44             2            7364                         5   \n",
       "top        25             1            6598                         4   \n",
       "freq     1732          4882             694                      4817   \n",
       "\n",
       "        client_talk_type  \n",
       "count               9699  \n",
       "unique                 4  \n",
       "top                    3  \n",
       "freq                4882  "
      ]
     },
     "execution_count": 293,
     "metadata": {},
     "output_type": "execute_result"
    }
   ],
   "source": [
    "df_st.describe()"
   ]
  },
  {
   "cell_type": "markdown",
   "metadata": {},
   "source": [
    "DATA VISUALISATION"
   ]
  },
  {
   "cell_type": "code",
   "execution_count": 294,
   "metadata": {},
   "outputs": [
    {
     "name": "stdout",
     "output_type": "stream",
     "text": [
      "[high]    82.706767\n",
      "[low]     17.293233\n",
      "dtype: float64\n"
     ]
    }
   ],
   "source": [
    "#Listing the percentage of mi quality for all the conversations\n",
    "transcript_group = df.groupby('transcript_id')\n",
    "df_ql = transcript_group.apply(lambda x: x['mi_quality'].unique())\n",
    "quality_group = df_ql.value_counts(normalize=True)*100\n",
    "print(quality_group)"
   ]
  },
  {
   "cell_type": "code",
   "execution_count": 295,
   "metadata": {},
   "outputs": [
    {
     "data": {
      "image/png": "[encoded data removed]",
      "text/plain": [
       "<Figure size 720x432 with 1 Axes>"
      ]
     },
     "metadata": {},
     "output_type": "display_data"
    }
   ],
   "source": [
    "#Plotting a pie chart for mi quality\n",
    "plt.figure(figsize=(10,6))\n",
    "ax1 = plt.subplot(121, aspect='equal')\n",
    "quality_group.plot(kind='pie',y = 'total_arrests', ax=ax1, autopct='%1.1f%%', shadow=True, labels=df['mi_quality'].unique(), legend = True, fontsize=10)\n",
    "plt.title('Percentage of Mi Quality')\n",
    "plt.show()\n"
   ]
  },
  {
   "cell_type": "code",
   "execution_count": 296,
   "metadata": {},
   "outputs": [
    {
     "name": "stdout",
     "output_type": "stream",
     "text": [
      "[reducing alcohol consumption]                     23\n",
      "[smoking cessation]                                10\n",
      "[smoking cessation ]                                9\n",
      "[taking medicine / following medical procedure]     8\n",
      "[reducing recidivism]                               7\n",
      "dtype: int64\n"
     ]
    }
   ],
   "source": [
    "#Lisitng top 5 conversation topics along with their count\n",
    "df_tp = transcript_group.apply(lambda x: x['topic'].unique())\n",
    "topic_group = df_tp.value_counts().head(5)\n",
    "print(topic_group)"
   ]
  },
  {
   "cell_type": "code",
   "execution_count": 297,
   "metadata": {},
   "outputs": [
    {
     "data": {
      "image/png": "[encoded data removed]",
      "text/plain": [
       "<Figure size 432x288 with 1 Axes>"
      ]
     },
     "metadata": {},
     "output_type": "display_data"
    }
   ],
   "source": [
    "#Plotting bar chart for the above data\n",
    "topic_group.plot(kind='barh',color='cyan')\n",
    "plt.xlabel('Number of conversations')\n",
    "plt.ylabel('Topic')\n",
    "plt.title('Top 5 Conversation Topics')\n",
    "plt.grid()\n",
    "plt.show()"
   ]
  },
  {
   "cell_type": "code",
   "execution_count": 298,
   "metadata": {},
   "outputs": [
    {
     "name": "stdout",
     "output_type": "stream",
     "text": [
      "other              1586\n",
      "question           1386\n",
      "reflection         1296\n",
      "therapist_input     614\n",
      "Name: main_therapist_behaviour, dtype: int64\n"
     ]
    }
   ],
   "source": [
    "#Listing the types of therapist behaviour and their count\n",
    "therapist_group = df['main_therapist_behaviour'].value_counts()\n",
    "print(therapist_group)\n"
   ]
  },
  {
   "cell_type": "code",
   "execution_count": 299,
   "metadata": {},
   "outputs": [
    {
     "data": {
      "image/png": "[encoded data removed]",
      "text/plain": [
       "<Figure size 432x288 with 1 Axes>"
      ]
     },
     "metadata": {},
     "output_type": "display_data"
    }
   ],
   "source": [
    "#Plotting a bar graph\n",
    "therapist_group.plot(kind='barh',color='green')\n",
    "plt.xlabel('No. of utterances')\n",
    "plt.ylabel('Behaviour Type')\n",
    "plt.title('Therapist Behaviour type')\n",
    "plt.grid()\n",
    "plt.legend()\n",
    "plt.show()"
   ]
  },
  {
   "cell_type": "code",
   "execution_count": 300,
   "metadata": {},
   "outputs": [
    {
     "name": "stdout",
     "output_type": "stream",
     "text": [
      "neutral    3102\n",
      "change     1174\n",
      "sustain     541\n",
      "Name: client_talk_type, dtype: int64\n"
     ]
    }
   ],
   "source": [
    "#Listing the types of client behaviour and their count\n",
    "client_group = df['client_talk_type'].value_counts()\n",
    "print(client_group)\n"
   ]
  },
  {
   "cell_type": "code",
   "execution_count": 301,
   "metadata": {},
   "outputs": [
    {
     "data": {
      "image/png": "[encoded data removed]",
      "text/plain": [
       "<Figure size 432x288 with 1 Axes>"
      ]
     },
     "metadata": {},
     "output_type": "display_data"
    }
   ],
   "source": [
    "#Plotting a bar graph\n",
    "client_group.plot(kind='barh',color='blue')\n",
    "plt.xlabel('No. of utterances')\n",
    "plt.ylabel('Behaviour Type')\n",
    "plt.title('Client Talk type')\n",
    "plt.grid()\n",
    "plt.legend()\n",
    "plt.show()\n"
   ]
  },
  {
   "cell_type": "markdown",
   "metadata": {},
   "source": [
    "SUMMARISATION"
   ]
  },
  {
   "cell_type": "code",
   "execution_count": 302,
   "metadata": {},
   "outputs": [],
   "source": [
    "#Text Summarisation using LexRank Method\n",
    "from lexrank.algorithms.summarizer import LexRank \n",
    "from lexrank.mappings.stopwords import STOPWORDS"
   ]
  },
  {
   "cell_type": "code",
   "execution_count": 303,
   "metadata": {},
   "outputs": [
    {
     "name": "stdout",
     "output_type": "stream",
     "text": [
      "question\n",
      "Summary : [\"Yeah, good. That sounds good. Mike, has there even been, if any, um, a time in your life when you've thought about, um, not drinking at all?\", \"Yeah, so then it's, um, right now, uh, tell me a little bit about, um, right now at this point in your life why it's so important to quit.\"]\n",
      "Scores cont : [0.28317394 2.19914029 0.76589422 ... 1.         0.41546696 0.39181652]\n",
      "therapist_input\n",
      "Summary : [\"Okay, so, yeah, just another reason why you probably need to just quit then. Um, okay, yeah. I-- Okay, so, like I said, I'm gonna right down here that you've decided to quit and, um, uh, you know, I'm gonna be meeting with you again probably in the next semester sometime, so we can kinda check-in and-and make sure that, you know, that's still going well-\", \"Yeah, I appreciate it. So, um, uh, your mom had given me a call and said that, um, um, there were some problems with kids kinda given you problems at school and being mean and things like that, and, uh, that's a hurtful thing.\"]\n",
      "Scores cont : [0.64787676 0.50738157 0.59993772 1.82778598 0.95913514 1.\n",
      " 1.57008074 0.754487   0.36652918 0.88106507 0.64720048 0.62434039\n",
      " 1.84048472 1.90869973 1.10115474 0.23144464 0.1823057  0.30753924\n",
      " 0.75194311 0.13841775 1.93291393 2.00447395 1.0770956  0.0832683\n",
      " 0.10712187 1.92064993 0.59704907 0.69196965 1.08981264 0.97898495\n",
      " 0.54361516 0.50583954 0.57246534 0.99758759 0.52155303 0.76434291\n",
      " 0.89499055 0.42739903 0.38914564 1.51013096 1.         1.45175435\n",
      " 2.17094521 0.91504008 0.65984805 0.39403541 0.69821229 0.88331903\n",
      " 0.48383121 1.07199828 1.22980591 0.87294244 0.10870573 0.87658934\n",
      " 0.68485945 0.42342191 0.76401712 0.51108142 1.5595161  0.6219027\n",
      " 0.99882622 1.73995993 1.51314606 0.52227728 1.74632613 0.4346472\n",
      " 0.27491667 1.51547205 1.05439966 0.94806674 1.21050283 0.14404449\n",
      " 1.59359444 1.0869643  0.98229589 0.72999006 1.9772012  0.47296024\n",
      " 1.26187417 1.92663729 1.60214933 0.49913991 0.18348444 0.54751748\n",
      " 0.94156123 0.51456405 0.47712385 0.63229663 0.73856416 0.64584936\n",
      " 0.76774383 1.56813801 2.77318394 0.64583356 0.57963743 2.28853068\n",
      " 2.35754748 1.57545286 2.15665238 1.78177036 0.57847631 2.31065707\n",
      " 1.94461334 1.32755271 2.41851335 0.94877772 2.10299187 1.28117456\n",
      " 0.90923514 1.02999678 0.1403671  0.83544722 1.65904118 1.35088973\n",
      " 0.17267841 1.77931606 1.51715986 0.14926188 0.11614175 0.35652837\n",
      " 0.24900792 0.25321838 0.1574792  0.73295482 0.68540282 0.12152191\n",
      " 1.15687291 1.16200062 1.42078102 1.64175255 1.24383775 1.\n",
      " 1.46177905 1.01160042 0.78741839 0.38059765 0.15718317 0.43137898\n",
      " 0.22020241 0.21727783 0.18895745 0.91755152 1.36153024 0.5100361\n",
      " 0.12700942 0.58663522 1.39398853 1.8145751  0.6489022  1.09537299\n",
      " 0.64928755 2.15226707 2.01918352 1.85669626 2.36719652 2.58291905\n",
      " 1.66803906 0.65896468 1.47604841 1.43118541 2.09975029 0.14161395\n",
      " 0.34188204 0.52059349 0.82285327 0.73149593 1.30998201 1.24950186\n",
      " 1.10300676 1.53786105 1.48986901 2.58827625 1.87262459 2.14793525\n",
      " 1.30035884 0.2729796  0.26640239 0.91691395 1.95973181 0.30848806\n",
      " 1.80471785 1.09899238 2.12156599 0.54658746 1.68701777 0.24918267\n",
      " 1.97226847 0.47662895 0.7041805  0.87140928 2.61072702 2.17524564\n",
      " 0.46666229 0.60394147 0.39783809 2.5888628  2.92923487 2.17354663\n",
      " 1.17448969 0.22738658 2.35353683 1.20518942 1.25282361 1.20550151\n",
      " 1.29776003 0.9265231  0.41820295 1.         0.30436253 1.25121539\n",
      " 0.58359901 1.19999236 0.65322897 1.49737721 0.23621337 0.58887724\n",
      " 0.46820803 0.11918294 0.51123595 2.07894632 0.384229   0.76660013\n",
      " 1.         0.0679251  0.39380888 0.41940712 1.71295771 0.40172916\n",
      " 1.16268381 1.         1.42050059 0.25247757 0.5267525  1.25795786\n",
      " 2.30205802 0.34176099 0.59529692 0.21952693 0.19894467 0.63129593\n",
      " 1.94731659 0.17326122 1.52366501 1.91400411 0.43799432 1.35989338\n",
      " 1.65703691 1.47009765 0.19657333 0.41013109 0.46031331 1.69512964\n",
      " 0.48074028 1.38625884 0.43464009 0.59777529 1.06835846 0.8157978\n",
      " 0.28949501 0.34754255 0.17405053 1.32843047 1.80840183 0.46262276\n",
      " 1.         0.41270976 0.41972803 0.54620734 0.20943401 0.19545561\n",
      " 1.31749533 0.81317018 0.27340391 1.27762131 1.32463362 1.65086089\n",
      " 1.13836001 2.06576419 1.99412563 1.65254815 0.48652956 0.34473833\n",
      " 0.91393201 0.39395804 0.31504068 0.23467496 0.33947536 0.44898031\n",
      " 1.27727722 2.26028846 0.41086523 2.68337134 0.61691941 2.85095409\n",
      " 0.32433376 0.56177855 0.35863701 1.40072213 1.01462477 0.94103109\n",
      " 0.20401137 1.14530448 1.47773239 1.33085025 0.87435568 0.21547434\n",
      " 1.28735495 0.13699427 0.40091593 0.59010964 1.00364393 0.17176455\n",
      " 0.27105447 0.15070761 0.1503278  1.02856389 1.06916967 2.35933116\n",
      " 1.37010364 0.94535622 0.84199283 0.3270119  1.19956035 0.97434252\n",
      " 0.67912231 0.56273392 0.59479402 1.01925244 1.23191921 0.68998018\n",
      " 0.42099538 1.4838084  1.65894718 2.05057613 1.66156534 0.29566014\n",
      " 0.54377979 3.45529522 1.3695151  0.82411514 1.4940935  1.13686391\n",
      " 1.04037191 1.03217064 1.12147088 0.1717093  0.87431878 0.27030059\n",
      " 1.08063902 0.06369732 0.37458715 1.15456494 1.0697856  2.02328435\n",
      " 2.28817612 2.30951476 0.35504155 2.5212775  1.97201506 0.89318973\n",
      " 0.36753115 0.17125586 1.38197449 0.98787093 1.41804573 1.50443605\n",
      " 1.93204177 0.90009918 0.40750294 0.28051273 1.10235455 2.57654111\n",
      " 1.77294774 0.64711496 0.09523086 2.31141892 2.05143072 1.41771971\n",
      " 1.931823   1.22298683 0.38716156 1.18924928 0.9406591  1.66435294\n",
      " 0.49199414 1.53571545 1.08956564 0.99887838 0.1457696  0.46416513\n",
      " 1.75287991 1.29609743 1.00038041 0.51681819 1.64250852 2.42769499\n",
      " 1.98748049 2.35532901 1.63175149 0.23984918 0.34880865 0.06378777\n",
      " 2.41829623 1.53438925 0.97391632 0.13461618 1.67796723 0.42196908\n",
      " 1.         1.         2.11025295 0.31123658 1.88575663 0.09301122\n",
      " 0.0786416  0.3474311  1.2676355  1.62819638 1.35110827 1.04499731\n",
      " 1.25134119 0.91264816 0.8480915  1.39326327 1.37766143 0.25759631\n",
      " 1.55229619 0.93766117 0.23026805 1.39108877 2.11687303 0.15066685\n",
      " 1.63296569 1.00542147 0.07090851 0.07376596 0.12763236 2.08610646\n",
      " 1.39643667 1.         1.46115173 0.50239423 2.33194673 1.18502893\n",
      " 1.71142383 0.11118079 1.51160918 1.67636971 2.1485184  1.83293607\n",
      " 0.12344803 0.12344803 0.11981957 1.         1.70701094 2.05680053\n",
      " 2.26950204 0.8325962  1.75233164 1.70602536 1.11333665 2.07064085\n",
      " 1.69265347 1.22572327 0.97889565 1.51825371 1.03737546 1.06900182\n",
      " 1.1126315  0.08562955 1.23525547 1.38297476 1.11680359 1.41971151\n",
      " 1.70037212 1.98570187 1.68567265 1.30484696 1.26290805 1.88737117\n",
      " 1.65776369 0.54752675 0.24616621 0.82352435 0.70124134 0.4098298\n",
      " 0.22928433 0.22701434 0.31746023 1.70689205 0.53061833 0.71211167\n",
      " 0.74711545 0.44191877 1.52841667 0.87664386 1.0894051  1.8101486\n",
      " 0.32086553 0.38090064 0.3928497  1.42906232 0.82701618 0.24704457\n",
      " 0.76419608 0.23696274 0.64903233 0.39841089 3.27850808 1.3476386\n",
      " 1.         1.87467655 1.         1.         0.25402385 0.43196615\n",
      " 0.38892038 2.65794581 1.4090164  2.03069707 1.42668171 1.3179481\n",
      " 1.35209917 0.41539871 1.3332823  0.81821084 0.92584285 0.38376339\n",
      " 0.70027716 0.33873808 0.32090901 0.8912964  0.75449619 1.07652868\n",
      " 0.38183664 0.38548722 1.50824575 1.         0.14585471 1.30252631\n",
      " 0.17299503 0.38986903 0.95504565 0.2873431  1.4655012  1.23695886\n",
      " 0.90385699 1.78103638 0.46095521 0.49744641 1.54963453 0.7862815\n",
      " 1.76025409 1.         0.13349473 0.36412012 0.10608153 0.58264378\n",
      " 0.69849271 1.76090241 0.85969134 0.48051191 0.42596102 0.65797542\n",
      " 0.5734562  0.28371433 1.13711867 0.79797699 0.6204726  0.77214081\n",
      " 0.14328813 0.22351911 1.39516304 0.57269685 0.86591223 0.91845961\n",
      " 1.06376106 1.12609793 0.52442659 0.86591223 1.17927976 0.69351645\n",
      " 1.37668269 0.6159584  0.97336336 0.61012718 0.49629023 0.5749965\n",
      " 1.54947491 0.86092528 1.19807303 0.87005403 0.83150777 0.20792521\n",
      " 0.78142685 0.80213576 0.59079162 1.30131961 1.32795332 0.92577517\n",
      " 0.36118238 0.67194923 0.15448629 0.24110628 1.53301436 1.35802734\n",
      " 0.33697817 0.15296641 0.3200216  1.61644957 0.24613543 0.24556953\n",
      " 0.57249912 0.25230853]\n",
      "reflection\n",
      "Summary : [\"So you feel like, um, what the doctor's saying and this brochure just kind of feels like, yeah, it's just kind of blowing things up out of proportion a little bit.\", \"Yeah, it does. It sounds like a lot that you're trying to deal with, and it makes sense that you feel like you need some kind of break or reward.\"]\n",
      "Scores cont : [1.81421145 0.19536676 0.77575421 ... 1.17932782 1.97081807 0.93403099]\n",
      "other\n"
     ]
    },
    {
     "data": {
      "image/png": "[encoded data removed]",
      "text/plain": [
       "<Figure size 360x360 with 1 Axes>"
      ]
     },
     "metadata": {},
     "output_type": "display_data"
    },
    {
     "data": {
      "image/png": "[encoded data removed]",
      "text/plain": [
       "<Figure size 360x360 with 1 Axes>"
      ]
     },
     "metadata": {},
     "output_type": "display_data"
    },
    {
     "data": {
      "image/png": "[encoded data removed]",
      "text/plain": [
       "<Figure size 360x360 with 1 Axes>"
      ]
     },
     "metadata": {},
     "output_type": "display_data"
    }
   ],
   "source": [
    "#Filtering the utterance text for each type of therapist behaviour and feeding it to the LexRank summarizer to get summary score\n",
    "behaviour_group = df['main_therapist_behaviour'].dropna().unique()\n",
    "\n",
    "for behaviour in behaviour_group:\n",
    "    print(behaviour)\n",
    "    filt = df['main_therapist_behaviour'] == behaviour\n",
    "    text = df.loc[filt]['utterance_text']\n",
    "    documents = text.tolist()\n",
    "    try:\n",
    "        lxr = LexRank(documents, stopwords=STOPWORDS['en'])\n",
    "        summary = lxr.get_summary(documents, summary_size=2, threshold=.1)\n",
    "        print(\"Summary :\",summary)\n",
    "        scores_cont = lxr.rank_sentences(documents,threshold=None,fast_power_method=False,)\n",
    "        print(\"Scores cont :\",scores_cont)\n",
    "        sns.set(color_codes=True)\n",
    "        x = scores_cont\n",
    "        #PLotting graph for all types of therapist behaviour\n",
    "        sns.displot(x).set_title(\"{}\").format(behaviour)\n",
    "    except:\n",
    "        pass\n",
    "\n",
    "    "
   ]
  },
  {
   "cell_type": "markdown",
   "metadata": {},
   "source": [
    "BINARY CLASSIFIER"
   ]
  },
  {
   "cell_type": "code",
   "execution_count": 304,
   "metadata": {},
   "outputs": [
    {
     "data": {
      "text/html": [
       "<div>\n",
       "<style scoped>\n",
       "    .dataframe tbody tr th:only-of-type {\n",
       "        vertical-align: middle;\n",
       "    }\n",
       "\n",
       "    .dataframe tbody tr th {\n",
       "        vertical-align: top;\n",
       "    }\n",
       "\n",
       "    .dataframe thead th {\n",
       "        text-align: right;\n",
       "    }\n",
       "</style>\n",
       "<table border=\"1\" class=\"dataframe\">\n",
       "  <thead>\n",
       "    <tr style=\"text-align: right;\">\n",
       "      <th></th>\n",
       "      <th>interlocutor</th>\n",
       "      <th>utterance_text</th>\n",
       "    </tr>\n",
       "  </thead>\n",
       "  <tbody>\n",
       "    <tr>\n",
       "      <th>0</th>\n",
       "      <td>therapist</td>\n",
       "      <td>Thanks for filling it out. We give this form t...</td>\n",
       "    </tr>\n",
       "    <tr>\n",
       "      <th>1</th>\n",
       "      <td>client</td>\n",
       "      <td>Sure.</td>\n",
       "    </tr>\n",
       "    <tr>\n",
       "      <th>2</th>\n",
       "      <td>therapist</td>\n",
       "      <td>So, let's see. It looks that you put-- You dri...</td>\n",
       "    </tr>\n",
       "    <tr>\n",
       "      <th>3</th>\n",
       "      <td>client</td>\n",
       "      <td>Mm-hmm.</td>\n",
       "    </tr>\n",
       "    <tr>\n",
       "      <th>4</th>\n",
       "      <td>therapist</td>\n",
       "      <td>-and you usually have three to four drinks whe...</td>\n",
       "    </tr>\n",
       "  </tbody>\n",
       "</table>\n",
       "</div>"
      ],
      "text/plain": [
       "  interlocutor                                     utterance_text\n",
       "0    therapist  Thanks for filling it out. We give this form t...\n",
       "1       client                                              Sure.\n",
       "2    therapist  So, let's see. It looks that you put-- You dri...\n",
       "3       client                                            Mm-hmm.\n",
       "4    therapist  -and you usually have three to four drinks whe..."
      ]
     },
     "execution_count": 304,
     "metadata": {},
     "output_type": "execute_result"
    }
   ],
   "source": [
    "#Importing CSV data for binary classification\n",
    "#The utterance text is the data and interlocutor is the label. \n",
    "df_clf = pd.read_csv('dataset.csv', usecols=['interlocutor','utterance_text'])\n",
    "df_clf.head()"
   ]
  },
  {
   "cell_type": "code",
   "execution_count": 305,
   "metadata": {},
   "outputs": [],
   "source": [
    "#Data is converted to list and splitted into 80%, 20% train, test data\n",
    "train_x = df_clf['utterance_text'].tolist()\n",
    "label_y = df_clf['interlocutor'].tolist()\n",
    "train_dataset, test_dataset, train_labels, test_labels = sklearn.model_selection.train_test_split(train_x,label_y,test_size=0.2)"
   ]
  },
  {
   "cell_type": "code",
   "execution_count": 306,
   "metadata": {},
   "outputs": [
    {
     "name": "stdout",
     "output_type": "stream",
     "text": [
      "Train Dataset length:  7759\n",
      "Class Distribution Counter:  Counter({'therapist': 3932, 'client': 3827})\n",
      "Test Dataset length:  1940\n",
      "Class Distribution Counter:  Counter({'client': 990, 'therapist': 950})\n"
     ]
    }
   ],
   "source": [
    "print(\"Train Dataset length: \",len(train_dataset))\n",
    "print(\"Class Distribution Counter: \", str(Counter(train_labels)))\n",
    "print(\"Test Dataset length: \",len(test_dataset))\n",
    "print(\"Class Distribution Counter: \", str(Counter(test_labels)))"
   ]
  },
  {
   "cell_type": "code",
   "execution_count": 307,
   "metadata": {},
   "outputs": [],
   "source": [
    "#Lemmatizer class to get the correct words\n",
    "class LemmaTokenizer:\n",
    "    ignore_tokens = [',', '.', ';', ':', '\"', '``', \"''\", '`']\n",
    "    def __init__(self):\n",
    "        self.wnl = WordNetLemmatizer()\n",
    "    def __call__(self, doc):\n",
    "        return [self.wnl.lemmatize(t) for t in word_tokenize(doc) if t not in self.ignore_tokens]\n",
    "\n",
    "tokenizer=LemmaTokenizer()"
   ]
  },
  {
   "cell_type": "code",
   "execution_count": 308,
   "metadata": {},
   "outputs": [
    {
     "name": "stdout",
     "output_type": "stream",
     "text": [
      "[1 0 0 ... 1 1 1]\n"
     ]
    }
   ],
   "source": [
    "#Encoding the train labels to feed into the network\n",
    "label_encoder = preprocessing.LabelEncoder()\n",
    "train_labels = label_encoder.fit_transform(train_labels)\n",
    "print(train_labels)"
   ]
  },
  {
   "cell_type": "code",
   "execution_count": 309,
   "metadata": {},
   "outputs": [
    {
     "name": "stderr",
     "output_type": "stream",
     "text": [
      "/Users/stefanrodrigues/yes/envs/spacy/lib/python3.9/site-packages/sklearn/feature_extraction/text.py:394: UserWarning: Your stop_words may be inconsistent with your preprocessing. Tokenizing the stop words generated tokens ['ha', 'le', 'u', 'wa'] not in stop_words.\n",
      "  warnings.warn(\n"
     ]
    },
    {
     "name": "stdout",
     "output_type": "stream",
     "text": [
      "['$' '$ 150' '%' ... '’ s' '’ t' '’ ve']\n"
     ]
    }
   ],
   "source": [
    "#Using Tfidf Vectorizer for vectorizing the data.\n",
    "#Bi gram approach is used to consider the relation between words\n",
    "#Stop words is used to remove unimportant words\n",
    "vectorizer = TfidfVectorizer(binary=True, ngram_range=(1,2),min_df=3, norm='l2',stop_words='english',tokenizer=tokenizer)\n",
    "train_x_vectors = vectorizer.fit_transform(train_dataset)\n",
    "print(vectorizer.get_feature_names_out())"
   ]
  },
  {
   "cell_type": "code",
   "execution_count": 310,
   "metadata": {},
   "outputs": [
    {
     "data": {
      "text/html": [
       "<style>#sk-container-id-9 {color: black;background-color: white;}#sk-container-id-9 pre{padding: 0;}#sk-container-id-9 div.sk-toggleable {background-color: white;}#sk-container-id-9 label.sk-toggleable__label {cursor: pointer;display: block;width: 100%;margin-bottom: 0;padding: 0.3em;box-sizing: border-box;text-align: center;}#sk-container-id-9 label.sk-toggleable__label-arrow:before {content: \"▸\";float: left;margin-right: 0.25em;color: #696969;}#sk-container-id-9 label.sk-toggleable__label-arrow:hover:before {color: black;}#sk-container-id-9 div.sk-estimator:hover label.sk-toggleable__label-arrow:before {color: black;}#sk-container-id-9 div.sk-toggleable__content {max-height: 0;max-width: 0;overflow: hidden;text-align: left;background-color: #f0f8ff;}#sk-container-id-9 div.sk-toggleable__content pre {margin: 0.2em;color: black;border-radius: 0.25em;background-color: #f0f8ff;}#sk-container-id-9 input.sk-toggleable__control:checked~div.sk-toggleable__content {max-height: 200px;max-width: 100%;overflow: auto;}#sk-container-id-9 input.sk-toggleable__control:checked~label.sk-toggleable__label-arrow:before {content: \"▾\";}#sk-container-id-9 div.sk-estimator input.sk-toggleable__control:checked~label.sk-toggleable__label {background-color: #d4ebff;}#sk-container-id-9 div.sk-label input.sk-toggleable__control:checked~label.sk-toggleable__label {background-color: #d4ebff;}#sk-container-id-9 input.sk-hidden--visually {border: 0;clip: rect(1px 1px 1px 1px);clip: rect(1px, 1px, 1px, 1px);height: 1px;margin: -1px;overflow: hidden;padding: 0;position: absolute;width: 1px;}#sk-container-id-9 div.sk-estimator {font-family: monospace;background-color: #f0f8ff;border: 1px dotted black;border-radius: 0.25em;box-sizing: border-box;margin-bottom: 0.5em;}#sk-container-id-9 div.sk-estimator:hover {background-color: #d4ebff;}#sk-container-id-9 div.sk-parallel-item::after {content: \"\";width: 100%;border-bottom: 1px solid gray;flex-grow: 1;}#sk-container-id-9 div.sk-label:hover label.sk-toggleable__label {background-color: #d4ebff;}#sk-container-id-9 div.sk-serial::before {content: \"\";position: absolute;border-left: 1px solid gray;box-sizing: border-box;top: 0;bottom: 0;left: 50%;z-index: 0;}#sk-container-id-9 div.sk-serial {display: flex;flex-direction: column;align-items: center;background-color: white;padding-right: 0.2em;padding-left: 0.2em;position: relative;}#sk-container-id-9 div.sk-item {position: relative;z-index: 1;}#sk-container-id-9 div.sk-parallel {display: flex;align-items: stretch;justify-content: center;background-color: white;position: relative;}#sk-container-id-9 div.sk-item::before, #sk-container-id-9 div.sk-parallel-item::before {content: \"\";position: absolute;border-left: 1px solid gray;box-sizing: border-box;top: 0;bottom: 0;left: 50%;z-index: -1;}#sk-container-id-9 div.sk-parallel-item {display: flex;flex-direction: column;z-index: 1;position: relative;background-color: white;}#sk-container-id-9 div.sk-parallel-item:first-child::after {align-self: flex-end;width: 50%;}#sk-container-id-9 div.sk-parallel-item:last-child::after {align-self: flex-start;width: 50%;}#sk-container-id-9 div.sk-parallel-item:only-child::after {width: 0;}#sk-container-id-9 div.sk-dashed-wrapped {border: 1px dashed gray;margin: 0 0.4em 0.5em 0.4em;box-sizing: border-box;padding-bottom: 0.4em;background-color: white;}#sk-container-id-9 div.sk-label label {font-family: monospace;font-weight: bold;display: inline-block;line-height: 1.2em;}#sk-container-id-9 div.sk-label-container {text-align: center;}#sk-container-id-9 div.sk-container {/* jupyter's `normalize.less` sets `[hidden] { display: none; }` but bootstrap.min.css set `[hidden] { display: none !important; }` so we also need the `!important` here to be able to override the default hidden behavior on the sphinx rendered scikit-learn.org. See: https://github.com/scikit-learn/scikit-learn/issues/21755 */display: inline-block !important;position: relative;}#sk-container-id-9 div.sk-text-repr-fallback {display: none;}</style><div id=\"sk-container-id-9\" class=\"sk-top-container\"><div class=\"sk-text-repr-fallback\"><pre>SVC(kernel=&#x27;linear&#x27;)</pre><b>In a Jupyter environment, please rerun this cell to show the HTML representation or trust the notebook. <br />On GitHub, the HTML representation is unable to render, please try loading this page with nbviewer.org.</b></div><div class=\"sk-container\" hidden><div class=\"sk-item\"><div class=\"sk-estimator sk-toggleable\"><input class=\"sk-toggleable__control sk-hidden--visually\" id=\"sk-estimator-id-9\" type=\"checkbox\" checked><label for=\"sk-estimator-id-9\" class=\"sk-toggleable__label sk-toggleable__label-arrow\">SVC</label><div class=\"sk-toggleable__content\"><pre>SVC(kernel=&#x27;linear&#x27;)</pre></div></div></div></div></div>"
      ],
      "text/plain": [
       "SVC(kernel='linear')"
      ]
     },
     "execution_count": 310,
     "metadata": {},
     "output_type": "execute_result"
    }
   ],
   "source": [
    "#Linear svm classifier is used to train the model\n",
    "clf_svm = svm.SVC(kernel='linear')\n",
    "clf_svm.fit(train_x_vectors, train_labels)"
   ]
  },
  {
   "cell_type": "code",
   "execution_count": 311,
   "metadata": {},
   "outputs": [
    {
     "name": "stdout",
     "output_type": "stream",
     "text": [
      "['therapist' 'client' 'therapist' ... 'client' 'therapist' 'client']\n"
     ]
    }
   ],
   "source": [
    "#Test data is vectorized for prediction\n",
    "test_x = vectorizer.transform(test_dataset)\n",
    "predicted_out = clf_svm.predict(test_x)\n",
    "#Predicted labels are decoded\n",
    "predicted_labels = label_encoder.inverse_transform(predicted_out)\n",
    "print(predicted_labels)"
   ]
  },
  {
   "cell_type": "markdown",
   "metadata": {},
   "source": [
    "PERFORMANCE METRICS"
   ]
  },
  {
   "cell_type": "code",
   "execution_count": 312,
   "metadata": {},
   "outputs": [
    {
     "name": "stdout",
     "output_type": "stream",
     "text": [
      "Accuracy score: 76.9588\n"
     ]
    }
   ],
   "source": [
    "#calculating accuracy score\n",
    "accuracy = accuracy_score(test_labels, predicted_labels, normalize=True, sample_weight=None)*100\n",
    "print(\"Accuracy score: {:.4f}\".format(accuracy))"
   ]
  },
  {
   "cell_type": "code",
   "execution_count": 313,
   "metadata": {},
   "outputs": [
    {
     "name": "stdout",
     "output_type": "stream",
     "text": [
      "Precision Score: 76.94907486663428\n",
      "Recall Score: 76.94790005316321\n"
     ]
    }
   ],
   "source": [
    "#calculating precision and recall score\n",
    "pr_sc = precision_score(test_labels, predicted_labels, average='macro')*100\n",
    "print(\"Precision Score: {}\".format(pr_sc))\n",
    "rc_sc = recall_score(test_labels, predicted_labels, average='macro')*100\n",
    "print(\"Recall Score: {}\".format(rc_sc))"
   ]
  },
  {
   "cell_type": "code",
   "execution_count": 314,
   "metadata": {},
   "outputs": [
    {
     "name": "stdout",
     "output_type": "stream",
     "text": [
      "F1 Score: 76.94848745541462\n"
     ]
    }
   ],
   "source": [
    "#Calculating f1 score as the weighted avergae of precision and recall\n",
    "f1_sc = 2 * (pr_sc*rc_sc)/(pr_sc+rc_sc)\n",
    "print(\"F1 Score: {}\".format(f1_sc))"
   ]
  },
  {
   "cell_type": "code",
   "execution_count": 315,
   "metadata": {},
   "outputs": [
    {
     "name": "stdout",
     "output_type": "stream",
     "text": [
      "[76.95876288659794, 76.94907486663428, 76.94790005316321, 76.94848745541462]\n"
     ]
    }
   ],
   "source": [
    "#Creating list for classifier performance metrics\n",
    "score_list = []\n",
    "score_list.append(accuracy)\n",
    "score_list.append(pr_sc)\n",
    "score_list.append(rc_sc)\n",
    "score_list.append(f1_sc)\n",
    "print(score_list)"
   ]
  },
  {
   "cell_type": "markdown",
   "metadata": {},
   "source": [
    "CONFUSION MATRIX"
   ]
  },
  {
   "cell_type": "code",
   "execution_count": 316,
   "metadata": {},
   "outputs": [
    {
     "data": {
      "text/plain": [
       "[Text(0, 0.5, 'client'), Text(0, 1.5, 'therapist')]"
      ]
     },
     "execution_count": 316,
     "metadata": {},
     "output_type": "execute_result"
    },
    {
     "data": {
      "image/png": "[encoded data removed]",
      "text/plain": [
       "<Figure size 432x288 with 2 Axes>"
      ]
     },
     "metadata": {},
     "output_type": "display_data"
    }
   ],
   "source": [
    "#Plotting confusion matrix for classifier\n",
    "cm = confusion_matrix(test_labels, predicted_labels)\n",
    "ax= plt.subplot()\n",
    "sns.heatmap(cm, annot=True, fmt='g', ax=ax)\n",
    "\n",
    "# labels, title and ticks\n",
    "ax.set_xlabel('Predicted labels')\n",
    "ax.set_ylabel('True labels') \n",
    "ax.set_title('Confusion Matrix for classifier')\n",
    "ax.xaxis.set_ticklabels(['client', 'therapist'])\n",
    "ax.yaxis.set_ticklabels(['client', 'therapist'])"
   ]
  },
  {
   "cell_type": "markdown",
   "metadata": {},
   "source": [
    "Transformer Model"
   ]
  },
  {
   "cell_type": "code",
   "execution_count": 317,
   "metadata": {},
   "outputs": [],
   "source": [
    "import spacy\n",
    "import torch"
   ]
  },
  {
   "cell_type": "code",
   "execution_count": 318,
   "metadata": {},
   "outputs": [],
   "source": [
    "vectors_nlp = spacy.load(\"en_core_web_md\")\n",
    "#Loading transformer model\n",
    "trf_model = spacy.load(\"en_core_web_trf\")\n",
    "trf_model.vocab.vectors = vectors_nlp.vocab.vectors"
   ]
  },
  {
   "cell_type": "code",
   "execution_count": 319,
   "metadata": {},
   "outputs": [
    {
     "name": "stderr",
     "output_type": "stream",
     "text": [
      "/Users/stefanrodrigues/yes/envs/spacy/lib/python3.9/site-packages/torch/autocast_mode.py:162: UserWarning: User provided device_type of 'cuda', but CUDA is not available. Disabling\n",
      "  warnings.warn('User provided device_type of \\'cuda\\', but CUDA is not available. Disabling')\n"
     ]
    },
    {
     "data": {
      "text/html": [
       "<style>#sk-container-id-10 {color: black;background-color: white;}#sk-container-id-10 pre{padding: 0;}#sk-container-id-10 div.sk-toggleable {background-color: white;}#sk-container-id-10 label.sk-toggleable__label {cursor: pointer;display: block;width: 100%;margin-bottom: 0;padding: 0.3em;box-sizing: border-box;text-align: center;}#sk-container-id-10 label.sk-toggleable__label-arrow:before {content: \"▸\";float: left;margin-right: 0.25em;color: #696969;}#sk-container-id-10 label.sk-toggleable__label-arrow:hover:before {color: black;}#sk-container-id-10 div.sk-estimator:hover label.sk-toggleable__label-arrow:before {color: black;}#sk-container-id-10 div.sk-toggleable__content {max-height: 0;max-width: 0;overflow: hidden;text-align: left;background-color: #f0f8ff;}#sk-container-id-10 div.sk-toggleable__content pre {margin: 0.2em;color: black;border-radius: 0.25em;background-color: #f0f8ff;}#sk-container-id-10 input.sk-toggleable__control:checked~div.sk-toggleable__content {max-height: 200px;max-width: 100%;overflow: auto;}#sk-container-id-10 input.sk-toggleable__control:checked~label.sk-toggleable__label-arrow:before {content: \"▾\";}#sk-container-id-10 div.sk-estimator input.sk-toggleable__control:checked~label.sk-toggleable__label {background-color: #d4ebff;}#sk-container-id-10 div.sk-label input.sk-toggleable__control:checked~label.sk-toggleable__label {background-color: #d4ebff;}#sk-container-id-10 input.sk-hidden--visually {border: 0;clip: rect(1px 1px 1px 1px);clip: rect(1px, 1px, 1px, 1px);height: 1px;margin: -1px;overflow: hidden;padding: 0;position: absolute;width: 1px;}#sk-container-id-10 div.sk-estimator {font-family: monospace;background-color: #f0f8ff;border: 1px dotted black;border-radius: 0.25em;box-sizing: border-box;margin-bottom: 0.5em;}#sk-container-id-10 div.sk-estimator:hover {background-color: #d4ebff;}#sk-container-id-10 div.sk-parallel-item::after {content: \"\";width: 100%;border-bottom: 1px solid gray;flex-grow: 1;}#sk-container-id-10 div.sk-label:hover label.sk-toggleable__label {background-color: #d4ebff;}#sk-container-id-10 div.sk-serial::before {content: \"\";position: absolute;border-left: 1px solid gray;box-sizing: border-box;top: 0;bottom: 0;left: 50%;z-index: 0;}#sk-container-id-10 div.sk-serial {display: flex;flex-direction: column;align-items: center;background-color: white;padding-right: 0.2em;padding-left: 0.2em;position: relative;}#sk-container-id-10 div.sk-item {position: relative;z-index: 1;}#sk-container-id-10 div.sk-parallel {display: flex;align-items: stretch;justify-content: center;background-color: white;position: relative;}#sk-container-id-10 div.sk-item::before, #sk-container-id-10 div.sk-parallel-item::before {content: \"\";position: absolute;border-left: 1px solid gray;box-sizing: border-box;top: 0;bottom: 0;left: 50%;z-index: -1;}#sk-container-id-10 div.sk-parallel-item {display: flex;flex-direction: column;z-index: 1;position: relative;background-color: white;}#sk-container-id-10 div.sk-parallel-item:first-child::after {align-self: flex-end;width: 50%;}#sk-container-id-10 div.sk-parallel-item:last-child::after {align-self: flex-start;width: 50%;}#sk-container-id-10 div.sk-parallel-item:only-child::after {width: 0;}#sk-container-id-10 div.sk-dashed-wrapped {border: 1px dashed gray;margin: 0 0.4em 0.5em 0.4em;box-sizing: border-box;padding-bottom: 0.4em;background-color: white;}#sk-container-id-10 div.sk-label label {font-family: monospace;font-weight: bold;display: inline-block;line-height: 1.2em;}#sk-container-id-10 div.sk-label-container {text-align: center;}#sk-container-id-10 div.sk-container {/* jupyter's `normalize.less` sets `[hidden] { display: none; }` but bootstrap.min.css set `[hidden] { display: none !important; }` so we also need the `!important` here to be able to override the default hidden behavior on the sphinx rendered scikit-learn.org. See: https://github.com/scikit-learn/scikit-learn/issues/21755 */display: inline-block !important;position: relative;}#sk-container-id-10 div.sk-text-repr-fallback {display: none;}</style><div id=\"sk-container-id-10\" class=\"sk-top-container\"><div class=\"sk-text-repr-fallback\"><pre>SVC(kernel=&#x27;linear&#x27;)</pre><b>In a Jupyter environment, please rerun this cell to show the HTML representation or trust the notebook. <br />On GitHub, the HTML representation is unable to render, please try loading this page with nbviewer.org.</b></div><div class=\"sk-container\" hidden><div class=\"sk-item\"><div class=\"sk-estimator sk-toggleable\"><input class=\"sk-toggleable__control sk-hidden--visually\" id=\"sk-estimator-id-10\" type=\"checkbox\" checked><label for=\"sk-estimator-id-10\" class=\"sk-toggleable__label sk-toggleable__label-arrow\">SVC</label><div class=\"sk-toggleable__content\"><pre>SVC(kernel=&#x27;linear&#x27;)</pre></div></div></div></div></div>"
      ],
      "text/plain": [
       "SVC(kernel='linear')"
      ]
     },
     "execution_count": 319,
     "metadata": {},
     "output_type": "execute_result"
    }
   ],
   "source": [
    "#preprocessing the train dataset\n",
    "data_set = [trf_model(data) for data in train_dataset]\n",
    "train_x_vectors = [x.vector for x in data_set]\n",
    "\n",
    "#training the model\n",
    "clf_svm = svm.SVC(kernel='linear')\n",
    "clf_svm.fit(train_x_vectors, train_labels)"
   ]
  },
  {
   "cell_type": "code",
   "execution_count": 320,
   "metadata": {},
   "outputs": [
    {
     "name": "stderr",
     "output_type": "stream",
     "text": [
      "/Users/stefanrodrigues/yes/envs/spacy/lib/python3.9/site-packages/torch/autocast_mode.py:162: UserWarning: User provided device_type of 'cuda', but CUDA is not available. Disabling\n",
      "  warnings.warn('User provided device_type of \\'cuda\\', but CUDA is not available. Disabling')\n"
     ]
    }
   ],
   "source": [
    "#vectorizing the test data\n",
    "data_set_ts = [trf_model(data) for data in test_dataset]\n",
    "test_x_vectors = [y.vector for y in data_set_ts]\n",
    "\n",
    "#prediciting the test dataset\n",
    "trf_pred_out = clf_svm.predict(test_x_vectors)"
   ]
  },
  {
   "cell_type": "code",
   "execution_count": 321,
   "metadata": {},
   "outputs": [
    {
     "name": "stdout",
     "output_type": "stream",
     "text": [
      "['therapist' 'client' 'therapist' ... 'client' 'therapist' 'client']\n"
     ]
    }
   ],
   "source": [
    "#decoding the test labels\n",
    "trf_pred_labels = label_encoder.inverse_transform(trf_pred_out)\n",
    "print(trf_pred_labels)"
   ]
  },
  {
   "cell_type": "code",
   "execution_count": 322,
   "metadata": {},
   "outputs": [
    {
     "name": "stdout",
     "output_type": "stream",
     "text": [
      "Accuracy score: 74.5876\n"
     ]
    }
   ],
   "source": [
    "#calculating accuracy score\n",
    "trf_accuracy = accuracy_score(test_labels, trf_pred_labels, normalize=True, sample_weight=None)*100\n",
    "print(\"Accuracy score: {:.4f}\".format(trf_accuracy))"
   ]
  },
  {
   "cell_type": "code",
   "execution_count": 323,
   "metadata": {},
   "outputs": [
    {
     "name": "stdout",
     "output_type": "stream",
     "text": [
      "Precision Score: 74.76623202043285\n",
      "Recall Score: 74.48644338118022\n"
     ]
    }
   ],
   "source": [
    "#calculating precision and recall score\n",
    "trf_pr_sc = precision_score(test_labels, trf_pred_labels, average='macro')*100\n",
    "print(\"Precision Score: {}\".format(trf_pr_sc))\n",
    "trf_rc_sc = recall_score(test_labels, trf_pred_labels, average='macro')*100\n",
    "print(\"Recall Score: {}\".format(trf_rc_sc))"
   ]
  },
  {
   "cell_type": "code",
   "execution_count": 324,
   "metadata": {},
   "outputs": [
    {
     "name": "stdout",
     "output_type": "stream",
     "text": [
      "F1 Score: 74.6260754553143\n"
     ]
    }
   ],
   "source": [
    "#Calculating f1 score as the weighted avergae of precision and recall\n",
    "trf_f1_sc = 2 * (trf_pr_sc*trf_rc_sc)/(trf_pr_sc+trf_rc_sc)\n",
    "print(\"F1 Score: {}\".format(trf_f1_sc))"
   ]
  },
  {
   "cell_type": "code",
   "execution_count": 325,
   "metadata": {},
   "outputs": [
    {
     "name": "stdout",
     "output_type": "stream",
     "text": [
      "[74.58762886597938, 74.76623202043285, 74.48644338118022, 74.6260754553143]\n"
     ]
    }
   ],
   "source": [
    "#Creating list for transformer performance metrics\n",
    "score_list_tr = []\n",
    "score_list_tr.append(trf_accuracy)\n",
    "score_list_tr.append(trf_pr_sc)\n",
    "score_list_tr.append(trf_rc_sc)\n",
    "score_list_tr.append(trf_f1_sc)\n",
    "print(score_list_tr)"
   ]
  },
  {
   "cell_type": "code",
   "execution_count": 326,
   "metadata": {},
   "outputs": [
    {
     "data": {
      "text/plain": [
       "[Text(0, 0.5, 'client'), Text(0, 1.5, 'therapist')]"
      ]
     },
     "execution_count": 326,
     "metadata": {},
     "output_type": "execute_result"
    },
    {
     "data": {
      "image/png": "[encoded data removed]",
      "text/plain": [
       "<Figure size 432x288 with 2 Axes>"
      ]
     },
     "metadata": {},
     "output_type": "display_data"
    }
   ],
   "source": [
    "#Plotting confusion matrix for transformer model\n",
    "cm = confusion_matrix(test_labels, trf_pred_labels)\n",
    "ax= plt.subplot()\n",
    "sns.heatmap(cm, annot=True, fmt='g', ax=ax)\n",
    "\n",
    "# labels, title and ticks\n",
    "ax.set_xlabel('Predicted labels')\n",
    "ax.set_ylabel('True labels') \n",
    "ax.set_title('Confusion Matrix Transformer Model')\n",
    "ax.xaxis.set_ticklabels(['client', 'therapist'])\n",
    "ax.yaxis.set_ticklabels(['client', 'therapist'])"
   ]
  },
  {
   "cell_type": "code",
   "execution_count": 327,
   "metadata": {},
   "outputs": [],
   "source": [
    "#Creating the table for comparsion\n",
    "comaprison_list = pd.DataFrame([score_list, score_list_tr])\n",
    "my_columns = [\"Accuracy(%)\", \"Precision(%)\", \"Recall(%)\",\"F1_score(%)\"]\n",
    "comaprison_list.columns = my_columns\n",
    "comaprison_list.index = [\"Binary Classifier\", \"Pre-Trained Transformer model\"]\n",
    "    "
   ]
  },
  {
   "cell_type": "code",
   "execution_count": 328,
   "metadata": {},
   "outputs": [
    {
     "data": {
      "text/html": [
       "<div>\n",
       "<style scoped>\n",
       "    .dataframe tbody tr th:only-of-type {\n",
       "        vertical-align: middle;\n",
       "    }\n",
       "\n",
       "    .dataframe tbody tr th {\n",
       "        vertical-align: top;\n",
       "    }\n",
       "\n",
       "    .dataframe thead th {\n",
       "        text-align: right;\n",
       "    }\n",
       "</style>\n",
       "<table border=\"1\" class=\"dataframe\">\n",
       "  <thead>\n",
       "    <tr style=\"text-align: right;\">\n",
       "      <th></th>\n",
       "      <th>Accuracy(%)</th>\n",
       "      <th>Precision(%)</th>\n",
       "      <th>Recall(%)</th>\n",
       "      <th>F1_score(%)</th>\n",
       "    </tr>\n",
       "  </thead>\n",
       "  <tbody>\n",
       "    <tr>\n",
       "      <th>Binary Classifier</th>\n",
       "      <td>76.958763</td>\n",
       "      <td>76.949075</td>\n",
       "      <td>76.947900</td>\n",
       "      <td>76.948487</td>\n",
       "    </tr>\n",
       "    <tr>\n",
       "      <th>Pre-Trained Transformer model</th>\n",
       "      <td>74.587629</td>\n",
       "      <td>74.766232</td>\n",
       "      <td>74.486443</td>\n",
       "      <td>74.626075</td>\n",
       "    </tr>\n",
       "  </tbody>\n",
       "</table>\n",
       "</div>"
      ],
      "text/plain": [
       "                               Accuracy(%)  Precision(%)  Recall(%)  \\\n",
       "Binary Classifier                76.958763     76.949075  76.947900   \n",
       "Pre-Trained Transformer model    74.587629     74.766232  74.486443   \n",
       "\n",
       "                               F1_score(%)  \n",
       "Binary Classifier                76.948487  \n",
       "Pre-Trained Transformer model    74.626075  "
      ]
     },
     "execution_count": 328,
     "metadata": {},
     "output_type": "execute_result"
    }
   ],
   "source": [
    "#Comparison of performance between the two models\n",
    "comaprison_list"
   ]
  }
 ],
 "metadata": {
  "interpreter": {
   "hash": "9de9323d077a4088a0fd8889e6b6f4cd17ccb6a9e05b2b7118a27f0cb4cacc61"
  },
  "kernelspec": {
   "display_name": "Python 3.9.12",
   "language": "python",
   "name": "python3"
  },
  "language_info": {
   "codemirror_mode": {
    "name": "ipython",
    "version": 3
   },
   "file_extension": ".py",
   "mimetype": "text/x-python",
   "name": "python",
   "nbconvert_exporter": "python",
   "pygments_lexer": "ipython3",
   "version": "3.9.12"
  },
  "orig_nbformat": 4
 },
 "nbformat": 4,
 "nbformat_minor": 2
}
